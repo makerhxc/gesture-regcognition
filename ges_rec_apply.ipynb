{
 "cells": [
  {
   "cell_type": "code",
   "execution_count": null,
   "metadata": {},
   "outputs": [],
   "source": [
    "from cv2 import cv2\n",
    "import numpy as np\n",
    "import matplotlib.pyplot as plt\n",
    "import tensorflow as tf\n",
    "\n",
    "tf.config.experimental.set_memory_growth(tf.config.list_physical_devices('GPU')[0], True)\n",
    "#读取模型\n",
    "load_model = tf.keras.models.load_model(\"gesture.model.weights.best.0703.h5\")\n",
    "\n",
    "#读取图片\n",
    "img_origin_rgb = cv2.imread(\"./img/WIN_20200706_15_12_47_Pro.png\")\n",
    "\n",
    "#图片预测结果集\n",
    "class_names = []\n",
    "for i in range(65,91):\n",
    "    class_names.append(chr(i))\n",
    "class_names.remove(\"J\")\n",
    "class_names.remove(\"Z\")"
   ]
  },
  {
   "cell_type": "code",
   "execution_count": null,
   "metadata": {},
   "outputs": [],
   "source": [
    "img_origin_gray = cv2.cvtColor(img_origin_rgb, cv2.COLOR_RGB2GRAY)\n",
    "\n",
    "img_compressed = cv2.resize(img_origin_gray,(28,28),interpolation = cv2.INTER_AREA)\n",
    "# cv2.resize() 放大和缩小图像\n",
    "#     参数：\n",
    "#         src: 输入图像对象\n",
    "#         dsize：输出矩阵/图像的大小，为0时计算方式如下：dsize = Size(round(fx*src.cols),round(fy*src.rows))\n",
    "#         fx: 水平轴的缩放因子，为0时计算方式：  (double)dsize.width/src.cols\n",
    "#         fy: 垂直轴的缩放因子，为0时计算方式：  (double)dsize.heigh/src.rows\n",
    "#         interpolation：插值算法\n",
    "#             cv2.INTER_NEAREST    最近邻插值法\n",
    "#             cv2.INTER_LINEAR     默认值，双线性插值法\n",
    "#             cv2.INTER_AREA       基于局部像素的重采样（resampling using pixel area relation）。对于图像抽取（image                                                decimation）来说，这可能是一个更好的方法。但如果是放大图像时，它和最近邻法的效果类似。\n",
    "#             cv2.INTER_CUBIC      基于4x4像素邻域的3次插值法\n",
    "#             cv2.INTER_LANCZOS4   基于8x8像素邻域的Lanczos插值\n",
    "                     \n",
    "#     cv2.INTER_AREA 适合于图像缩小， cv2.INTER_CUBIC (slow) & cv2.INTER_LINEAR 适合于图像放大\n",
    "\n",
    "# cv2.imshow(\"image\",img)\n",
    "# cv2.waitKey(0)\n",
    "# cv2.destroyAllWindow()\n",
    "\n",
    "\n",
    "# plt.figure()\n",
    "# plt.imshow(img_compressed,cmap = \"gray\")\n",
    "# plt.axis(False)\n",
    "# plt.show()\n",
    "\n",
    "#数据统一化\n",
    "rec = (img_compressed/255).reshape(-1,28,28,1)\n"
   ]
  },
  {
   "cell_type": "code",
   "execution_count": null,
   "metadata": {},
   "outputs": [],
   "source": [
    "def ges_rec(image):\n",
    "    return class_names[np.argmax(load_model.predict(image))]\n",
    "plt.figure()\n",
    "plt.imshow(img_compressed,cmap = \"gray\")\n",
    "plt.axis(False)\n",
    "plt.title(ges_rec(rec))\n",
    "plt.show()"
   ]
  },
  {
   "cell_type": "code",
   "execution_count": null,
   "metadata": {
    "tags": []
   },
   "outputs": [],
   "source": [
    "p = {}\n",
    "for i in range(0,24):\n",
    "    p[class_names[i]] = round(load_model.predict(rec)[0][i]*100,4)\n",
    "p2 = dict(sorted(p.items(), key=lambda x: x[1], reverse=True))\n",
    "\n",
    "for i,j in p2.items():\n",
    "    print(\"{}:{}%\".format(i,j))"
   ]
  },
  {
   "cell_type": "code",
   "execution_count": null,
   "metadata": {},
   "outputs": [],
   "source": []
  }
 ],
 "metadata": {
  "kernelspec": {
   "display_name": "Python 3",
   "language": "python",
   "name": "python3"
  },
  "language_info": {
   "codemirror_mode": {
    "name": "ipython",
    "version": 3
   },
   "file_extension": ".py",
   "mimetype": "text/x-python",
   "name": "python",
   "nbconvert_exporter": "python",
   "pygments_lexer": "ipython3",
   "version": "3.6.8-final"
  }
 },
 "nbformat": 4,
 "nbformat_minor": 4
}